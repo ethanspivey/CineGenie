{
 "cells": [
  {
   "cell_type": "code",
   "execution_count": 99,
   "metadata": {},
   "outputs": [],
   "source": [
    "import pandas as pd\n",
    "\n",
    "akas_df = pd.read_csv('data/title.akas.tsv.gz', sep='\\t', dtype=str, na_values=[\"\\\\N\"])\n",
    "\n",
    "title_df = pd.read_csv('data/title.basics.tsv.gz', sep='\\t', dtype=str, na_values=[\"\\\\N\"])\n",
    "\n",
    "crew_df = pd.read_csv(\"data/title.crew.tsv.gz\", sep=\"\\t\", dtype=str, na_values=[\"\\\\N\"])\n",
    "\n",
    "principals_df = pd.read_csv('data/title.principals.tsv.gz', sep='\\t', dtype=str, na_values=[\"\\\\N\"])\n",
    "\n",
    "ratings_df = pd.read_csv(\"data/title.ratings.tsv.gz\", sep=\"\\t\", dtype=str, na_values=[\"\\\\N\"])\n",
    "\n",
    "cast_names_df = pd.read_csv(\"data/name.basics.tsv.gz\", sep=\"\\t\", dtype=str, na_values=[\"\\\\N\"])\n",
    "\n",
    "director_names_df = pd.read_csv(\"data/name.basics.tsv.gz\", sep=\"\\t\", dtype=str, na_values=[\"\\\\N\"])"
   ]
  },
  {
   "cell_type": "code",
   "execution_count": 100,
   "metadata": {},
   "outputs": [],
   "source": [
    "akas_df.drop(columns=['ordering', 'title', 'language', 'types', 'attributes', 'isOriginalTitle'], inplace=True)"
   ]
  },
  {
   "cell_type": "code",
   "execution_count": 101,
   "metadata": {},
   "outputs": [],
   "source": [
    "title_df = title_df.loc[title_df['titleType'].isin(['movie', 'tvMovie'])]\n",
    "title_df = title_df.loc[title_df['isAdult'] == '0']\n",
    "title_df.drop(columns=['titleType','originalTitle', 'isAdult', 'endYear'], inplace=True)"
   ]
  },
  {
   "cell_type": "code",
   "execution_count": 102,
   "metadata": {},
   "outputs": [],
   "source": [
    "crew_df.drop(columns=['writers'], inplace=True)\n",
    "crew_df[\"directors\"] = crew_df[\"directors\"].str.split(\",\")\n",
    "crew_df = crew_df.explode(\"directors\")[[\"tconst\", \"directors\"]]"
   ]
  },
  {
   "cell_type": "code",
   "execution_count": 103,
   "metadata": {},
   "outputs": [],
   "source": [
    "principals_df = principals_df.loc[(principals_df['category'] == 'actor') | (principals_df['category'] == 'actress')]\n",
    "principals_df.drop(columns=['ordering', 'category', 'job', 'characters'], inplace=True)"
   ]
  },
  {
   "cell_type": "code",
   "execution_count": 104,
   "metadata": {},
   "outputs": [],
   "source": [
    "cast_names_df.drop(columns=['birthYear', 'deathYear', 'primaryProfession', 'knownForTitles'], inplace=True)\n",
    "director_names_df.drop(columns=['birthYear', 'deathYear', 'primaryProfession', 'knownForTitles'], inplace=True)"
   ]
  },
  {
   "cell_type": "code",
   "execution_count": 105,
   "metadata": {},
   "outputs": [],
   "source": [
    "data = pd.merge(akas_df, title_df, left_on='titleId', right_on='tconst', how='right')"
   ]
  },
  {
   "cell_type": "code",
   "execution_count": 106,
   "metadata": {},
   "outputs": [
    {
     "data": {
      "text/html": [
       "<div>\n",
       "<style scoped>\n",
       "    .dataframe tbody tr th:only-of-type {\n",
       "        vertical-align: middle;\n",
       "    }\n",
       "\n",
       "    .dataframe tbody tr th {\n",
       "        vertical-align: top;\n",
       "    }\n",
       "\n",
       "    .dataframe thead th {\n",
       "        text-align: right;\n",
       "    }\n",
       "</style>\n",
       "<table border=\"1\" class=\"dataframe\">\n",
       "  <thead>\n",
       "    <tr style=\"text-align: right;\">\n",
       "      <th></th>\n",
       "      <th>titleId</th>\n",
       "      <th>region</th>\n",
       "      <th>tconst</th>\n",
       "      <th>primaryTitle</th>\n",
       "      <th>startYear</th>\n",
       "      <th>runtimeMinutes</th>\n",
       "      <th>genres</th>\n",
       "    </tr>\n",
       "  </thead>\n",
       "  <tbody>\n",
       "    <tr>\n",
       "      <th>0</th>\n",
       "      <td>tt0000009</td>\n",
       "      <td>NaN</td>\n",
       "      <td>tt0000009</td>\n",
       "      <td>Miss Jerry</td>\n",
       "      <td>1894</td>\n",
       "      <td>45</td>\n",
       "      <td>Romance</td>\n",
       "    </tr>\n",
       "    <tr>\n",
       "      <th>1</th>\n",
       "      <td>tt0000009</td>\n",
       "      <td>AU</td>\n",
       "      <td>tt0000009</td>\n",
       "      <td>Miss Jerry</td>\n",
       "      <td>1894</td>\n",
       "      <td>45</td>\n",
       "      <td>Romance</td>\n",
       "    </tr>\n",
       "    <tr>\n",
       "      <th>2</th>\n",
       "      <td>tt0000009</td>\n",
       "      <td>HU</td>\n",
       "      <td>tt0000009</td>\n",
       "      <td>Miss Jerry</td>\n",
       "      <td>1894</td>\n",
       "      <td>45</td>\n",
       "      <td>Romance</td>\n",
       "    </tr>\n",
       "    <tr>\n",
       "      <th>3</th>\n",
       "      <td>tt0000009</td>\n",
       "      <td>US</td>\n",
       "      <td>tt0000009</td>\n",
       "      <td>Miss Jerry</td>\n",
       "      <td>1894</td>\n",
       "      <td>45</td>\n",
       "      <td>Romance</td>\n",
       "    </tr>\n",
       "    <tr>\n",
       "      <th>4</th>\n",
       "      <td>tt0000009</td>\n",
       "      <td>DE</td>\n",
       "      <td>tt0000009</td>\n",
       "      <td>Miss Jerry</td>\n",
       "      <td>1894</td>\n",
       "      <td>45</td>\n",
       "      <td>Romance</td>\n",
       "    </tr>\n",
       "  </tbody>\n",
       "</table>\n",
       "</div>"
      ],
      "text/plain": [
       "     titleId region     tconst primaryTitle startYear runtimeMinutes   genres\n",
       "0  tt0000009    NaN  tt0000009   Miss Jerry      1894             45  Romance\n",
       "1  tt0000009     AU  tt0000009   Miss Jerry      1894             45  Romance\n",
       "2  tt0000009     HU  tt0000009   Miss Jerry      1894             45  Romance\n",
       "3  tt0000009     US  tt0000009   Miss Jerry      1894             45  Romance\n",
       "4  tt0000009     DE  tt0000009   Miss Jerry      1894             45  Romance"
      ]
     },
     "execution_count": 106,
     "metadata": {},
     "output_type": "execute_result"
    }
   ],
   "source": [
    "data.head()"
   ]
  },
  {
   "cell_type": "code",
   "execution_count": 107,
   "metadata": {},
   "outputs": [],
   "source": [
    "data = pd.merge(data, crew_df, on='tconst', how='left')"
   ]
  },
  {
   "cell_type": "code",
   "execution_count": 108,
   "metadata": {},
   "outputs": [],
   "source": [
    "data = pd.merge(data, principals_df, on='tconst', how='left')"
   ]
  },
  {
   "cell_type": "code",
   "execution_count": 109,
   "metadata": {},
   "outputs": [],
   "source": [
    "data = pd.merge(data, ratings_df, on='tconst', how='left')"
   ]
  },
  {
   "cell_type": "code",
   "execution_count": 110,
   "metadata": {},
   "outputs": [],
   "source": [
    "data = pd.merge(data, cast_names_df, on='nconst', how='left')"
   ]
  },
  {
   "cell_type": "code",
   "execution_count": 111,
   "metadata": {},
   "outputs": [],
   "source": [
    "data = data.rename(columns={\"primaryName\" : \"Cast\"})\n",
    "data.drop(columns=['nconst', 'titleId'], inplace=True)"
   ]
  },
  {
   "cell_type": "code",
   "execution_count": 112,
   "metadata": {},
   "outputs": [],
   "source": [
    "data = pd.merge(data, director_names_df, left_on='directors', right_on='nconst', how='left')"
   ]
  },
  {
   "cell_type": "code",
   "execution_count": 113,
   "metadata": {},
   "outputs": [],
   "source": [
    "data = data.rename(columns={\"primaryName\" : \"Director\"})\n",
    "data.drop(columns=['nconst', 'directors'], inplace=True)"
   ]
  },
  {
   "cell_type": "code",
   "execution_count": 114,
   "metadata": {},
   "outputs": [],
   "source": [
    "data = data.dropna()"
   ]
  },
  {
   "cell_type": "code",
   "execution_count": 115,
   "metadata": {},
   "outputs": [],
   "source": [
    "data = data.groupby(['tconst']).agg({'primaryTitle' : 'first', 'region' : 'first', 'startYear' : 'first', 'runtimeMinutes' : 'first', 'genres' : 'first', 'averageRating' : 'first', 'numVotes' : 'first', 'Cast': lambda x: ', '.join(x), 'Director': lambda x: ', '.join(set(x))}).reset_index()"
   ]
  },
  {
   "cell_type": "code",
   "execution_count": 116,
   "metadata": {},
   "outputs": [],
   "source": [
    "data = data.rename(columns={\"tconst\" : \"ID\", \"primaryName\" : \"Director\", \"primaryTitle\" : \"Title\", \"startYear\" : \"Year\", \"runtimeMinutes\" : \"RunningTime\", \"region\" : \"Region\", \"genres\": \"Genres\", \"averageRating\" : \"Rating\", \"numVotes\" : \"Votes\"})"
   ]
  },
  {
   "cell_type": "code",
   "execution_count": 117,
   "metadata": {},
   "outputs": [
    {
     "data": {
      "text/html": [
       "<div>\n",
       "<style scoped>\n",
       "    .dataframe tbody tr th:only-of-type {\n",
       "        vertical-align: middle;\n",
       "    }\n",
       "\n",
       "    .dataframe tbody tr th {\n",
       "        vertical-align: top;\n",
       "    }\n",
       "\n",
       "    .dataframe thead th {\n",
       "        text-align: right;\n",
       "    }\n",
       "</style>\n",
       "<table border=\"1\" class=\"dataframe\">\n",
       "  <thead>\n",
       "    <tr style=\"text-align: right;\">\n",
       "      <th></th>\n",
       "      <th>ID</th>\n",
       "      <th>Title</th>\n",
       "      <th>Region</th>\n",
       "      <th>Year</th>\n",
       "      <th>RunningTime</th>\n",
       "      <th>Genres</th>\n",
       "      <th>Rating</th>\n",
       "      <th>Votes</th>\n",
       "      <th>Cast</th>\n",
       "      <th>Director</th>\n",
       "    </tr>\n",
       "  </thead>\n",
       "  <tbody>\n",
       "    <tr>\n",
       "      <th>0</th>\n",
       "      <td>tt0000009</td>\n",
       "      <td>Miss Jerry</td>\n",
       "      <td>AU</td>\n",
       "      <td>1894</td>\n",
       "      <td>45</td>\n",
       "      <td>Romance</td>\n",
       "      <td>5.3</td>\n",
       "      <td>222</td>\n",
       "      <td>Blanche Bayliss, William Courtenay, Chauncey D...</td>\n",
       "      <td>Alexander Black</td>\n",
       "    </tr>\n",
       "    <tr>\n",
       "      <th>1</th>\n",
       "      <td>tt0000574</td>\n",
       "      <td>The Story of the Kelly Gang</td>\n",
       "      <td>AU</td>\n",
       "      <td>1906</td>\n",
       "      <td>70</td>\n",
       "      <td>Action,Adventure,Biography</td>\n",
       "      <td>6.0</td>\n",
       "      <td>976</td>\n",
       "      <td>Elizabeth Tait, John Tait, Nicholas Brierley, ...</td>\n",
       "      <td>Charles Tait</td>\n",
       "    </tr>\n",
       "    <tr>\n",
       "      <th>2</th>\n",
       "      <td>tt0000591</td>\n",
       "      <td>The Prodigal Son</td>\n",
       "      <td>FR</td>\n",
       "      <td>1907</td>\n",
       "      <td>90</td>\n",
       "      <td>Drama</td>\n",
       "      <td>5.6</td>\n",
       "      <td>31</td>\n",
       "      <td>Georges Wague, Henri Gouget, Christiane Mandel...</td>\n",
       "      <td>Michel Carré</td>\n",
       "    </tr>\n",
       "    <tr>\n",
       "      <th>3</th>\n",
       "      <td>tt0000679</td>\n",
       "      <td>The Fairylogue and Radio-Plays</td>\n",
       "      <td>GB</td>\n",
       "      <td>1908</td>\n",
       "      <td>120</td>\n",
       "      <td>Adventure,Fantasy</td>\n",
       "      <td>5.2</td>\n",
       "      <td>78</td>\n",
       "      <td>L. Frank Baum, Frank Burns, Frank Burns, Georg...</td>\n",
       "      <td>Francis Boggs, Otis Turner</td>\n",
       "    </tr>\n",
       "    <tr>\n",
       "      <th>4</th>\n",
       "      <td>tt0000941</td>\n",
       "      <td>Locura de amor</td>\n",
       "      <td>ES</td>\n",
       "      <td>1909</td>\n",
       "      <td>45</td>\n",
       "      <td>Drama</td>\n",
       "      <td>4.6</td>\n",
       "      <td>30</td>\n",
       "      <td>José Argelagués, Joaquín Carrasco, José Durany...</td>\n",
       "      <td>Ricardo de Baños, Alberto Marro</td>\n",
       "    </tr>\n",
       "  </tbody>\n",
       "</table>\n",
       "</div>"
      ],
      "text/plain": [
       "          ID                           Title Region  Year RunningTime  \\\n",
       "0  tt0000009                      Miss Jerry     AU  1894          45   \n",
       "1  tt0000574     The Story of the Kelly Gang     AU  1906          70   \n",
       "2  tt0000591                The Prodigal Son     FR  1907          90   \n",
       "3  tt0000679  The Fairylogue and Radio-Plays     GB  1908         120   \n",
       "4  tt0000941                  Locura de amor     ES  1909          45   \n",
       "\n",
       "                       Genres Rating Votes  \\\n",
       "0                     Romance    5.3   222   \n",
       "1  Action,Adventure,Biography    6.0   976   \n",
       "2                       Drama    5.6    31   \n",
       "3           Adventure,Fantasy    5.2    78   \n",
       "4                       Drama    4.6    30   \n",
       "\n",
       "                                                Cast  \\\n",
       "0  Blanche Bayliss, William Courtenay, Chauncey D...   \n",
       "1  Elizabeth Tait, John Tait, Nicholas Brierley, ...   \n",
       "2  Georges Wague, Henri Gouget, Christiane Mandel...   \n",
       "3  L. Frank Baum, Frank Burns, Frank Burns, Georg...   \n",
       "4  José Argelagués, Joaquín Carrasco, José Durany...   \n",
       "\n",
       "                          Director  \n",
       "0                  Alexander Black  \n",
       "1                     Charles Tait  \n",
       "2                     Michel Carré  \n",
       "3       Francis Boggs, Otis Turner  \n",
       "4  Ricardo de Baños, Alberto Marro  "
      ]
     },
     "execution_count": 117,
     "metadata": {},
     "output_type": "execute_result"
    }
   ],
   "source": [
    "data.head()"
   ]
  },
  {
   "cell_type": "code",
   "execution_count": 118,
   "metadata": {},
   "outputs": [],
   "source": [
    "data = data[['ID', 'Title', 'Year', 'Genres', 'Director', 'Cast', 'RunningTime', 'Region', 'Rating', 'Votes']]"
   ]
  },
  {
   "cell_type": "code",
   "execution_count": 119,
   "metadata": {},
   "outputs": [
    {
     "data": {
      "text/html": [
       "<div>\n",
       "<style scoped>\n",
       "    .dataframe tbody tr th:only-of-type {\n",
       "        vertical-align: middle;\n",
       "    }\n",
       "\n",
       "    .dataframe tbody tr th {\n",
       "        vertical-align: top;\n",
       "    }\n",
       "\n",
       "    .dataframe thead th {\n",
       "        text-align: right;\n",
       "    }\n",
       "</style>\n",
       "<table border=\"1\" class=\"dataframe\">\n",
       "  <thead>\n",
       "    <tr style=\"text-align: right;\">\n",
       "      <th></th>\n",
       "      <th>ID</th>\n",
       "      <th>Title</th>\n",
       "      <th>Year</th>\n",
       "      <th>Genres</th>\n",
       "      <th>Director</th>\n",
       "      <th>Cast</th>\n",
       "      <th>RunningTime</th>\n",
       "      <th>Region</th>\n",
       "      <th>Rating</th>\n",
       "      <th>Votes</th>\n",
       "    </tr>\n",
       "  </thead>\n",
       "  <tbody>\n",
       "    <tr>\n",
       "      <th>0</th>\n",
       "      <td>tt0000009</td>\n",
       "      <td>Miss Jerry</td>\n",
       "      <td>1894</td>\n",
       "      <td>Romance</td>\n",
       "      <td>Alexander Black</td>\n",
       "      <td>Blanche Bayliss, William Courtenay, Chauncey D...</td>\n",
       "      <td>45</td>\n",
       "      <td>AU</td>\n",
       "      <td>5.3</td>\n",
       "      <td>222</td>\n",
       "    </tr>\n",
       "    <tr>\n",
       "      <th>1</th>\n",
       "      <td>tt0000574</td>\n",
       "      <td>The Story of the Kelly Gang</td>\n",
       "      <td>1906</td>\n",
       "      <td>Action,Adventure,Biography</td>\n",
       "      <td>Charles Tait</td>\n",
       "      <td>Elizabeth Tait, John Tait, Nicholas Brierley, ...</td>\n",
       "      <td>70</td>\n",
       "      <td>AU</td>\n",
       "      <td>6.0</td>\n",
       "      <td>976</td>\n",
       "    </tr>\n",
       "    <tr>\n",
       "      <th>2</th>\n",
       "      <td>tt0000591</td>\n",
       "      <td>The Prodigal Son</td>\n",
       "      <td>1907</td>\n",
       "      <td>Drama</td>\n",
       "      <td>Michel Carré</td>\n",
       "      <td>Georges Wague, Henri Gouget, Christiane Mandel...</td>\n",
       "      <td>90</td>\n",
       "      <td>FR</td>\n",
       "      <td>5.6</td>\n",
       "      <td>31</td>\n",
       "    </tr>\n",
       "    <tr>\n",
       "      <th>3</th>\n",
       "      <td>tt0000679</td>\n",
       "      <td>The Fairylogue and Radio-Plays</td>\n",
       "      <td>1908</td>\n",
       "      <td>Adventure,Fantasy</td>\n",
       "      <td>Francis Boggs, Otis Turner</td>\n",
       "      <td>L. Frank Baum, Frank Burns, Frank Burns, Georg...</td>\n",
       "      <td>120</td>\n",
       "      <td>GB</td>\n",
       "      <td>5.2</td>\n",
       "      <td>78</td>\n",
       "    </tr>\n",
       "    <tr>\n",
       "      <th>4</th>\n",
       "      <td>tt0000941</td>\n",
       "      <td>Locura de amor</td>\n",
       "      <td>1909</td>\n",
       "      <td>Drama</td>\n",
       "      <td>Ricardo de Baños, Alberto Marro</td>\n",
       "      <td>José Argelagués, Joaquín Carrasco, José Durany...</td>\n",
       "      <td>45</td>\n",
       "      <td>ES</td>\n",
       "      <td>4.6</td>\n",
       "      <td>30</td>\n",
       "    </tr>\n",
       "  </tbody>\n",
       "</table>\n",
       "</div>"
      ],
      "text/plain": [
       "          ID                           Title  Year  \\\n",
       "0  tt0000009                      Miss Jerry  1894   \n",
       "1  tt0000574     The Story of the Kelly Gang  1906   \n",
       "2  tt0000591                The Prodigal Son  1907   \n",
       "3  tt0000679  The Fairylogue and Radio-Plays  1908   \n",
       "4  tt0000941                  Locura de amor  1909   \n",
       "\n",
       "                       Genres                         Director  \\\n",
       "0                     Romance                  Alexander Black   \n",
       "1  Action,Adventure,Biography                     Charles Tait   \n",
       "2                       Drama                     Michel Carré   \n",
       "3           Adventure,Fantasy       Francis Boggs, Otis Turner   \n",
       "4                       Drama  Ricardo de Baños, Alberto Marro   \n",
       "\n",
       "                                                Cast RunningTime Region  \\\n",
       "0  Blanche Bayliss, William Courtenay, Chauncey D...          45     AU   \n",
       "1  Elizabeth Tait, John Tait, Nicholas Brierley, ...          70     AU   \n",
       "2  Georges Wague, Henri Gouget, Christiane Mandel...          90     FR   \n",
       "3  L. Frank Baum, Frank Burns, Frank Burns, Georg...         120     GB   \n",
       "4  José Argelagués, Joaquín Carrasco, José Durany...          45     ES   \n",
       "\n",
       "  Rating Votes  \n",
       "0    5.3   222  \n",
       "1    6.0   976  \n",
       "2    5.6    31  \n",
       "3    5.2    78  \n",
       "4    4.6    30  "
      ]
     },
     "execution_count": 119,
     "metadata": {},
     "output_type": "execute_result"
    }
   ],
   "source": [
    "data.head()"
   ]
  },
  {
   "cell_type": "code",
   "execution_count": 120,
   "metadata": {},
   "outputs": [],
   "source": [
    "data[\"Director\"] = data[\"Director\"].str.replace(\", \", \",\", regex=False)\n",
    "data[\"Cast\"] = data[\"Cast\"].str.replace(\", \", \",\", regex=False)"
   ]
  },
  {
   "cell_type": "code",
   "execution_count": 121,
   "metadata": {},
   "outputs": [],
   "source": [
    "data.to_csv(\"data/data2.csv\", index=False, sep=\";\")"
   ]
  }
 ],
 "metadata": {
  "kernelspec": {
   "display_name": "venv",
   "language": "python",
   "name": "python3"
  },
  "language_info": {
   "codemirror_mode": {
    "name": "ipython",
    "version": 3
   },
   "file_extension": ".py",
   "mimetype": "text/x-python",
   "name": "python",
   "nbconvert_exporter": "python",
   "pygments_lexer": "ipython3",
   "version": "3.12.5"
  }
 },
 "nbformat": 4,
 "nbformat_minor": 2
}

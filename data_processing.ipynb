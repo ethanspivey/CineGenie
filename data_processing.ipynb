{
 "cells": [
  {
   "cell_type": "code",
   "execution_count": 91,
   "metadata": {},
   "outputs": [],
   "source": [
    "import pandas as pd\n",
    "\n",
    "title_df = pd.read_csv('data/title.basics.tsv', sep='\\t', dtype=str, na_values=[\"\\\\N\"])\n",
    "\n",
    "crew_df = pd.read_csv(\"data/title.crew.tsv\", sep=\"\\t\", dtype=str, na_values=[\"\\\\N\"])\n",
    "\n",
    "principals_df = pd.read_csv('data/title.principals.tsv', sep='\\t', dtype=str, na_values=[\"\\\\N\"])\n",
    "\n",
    "ratings_df = pd.read_csv(\"data/title.ratings.tsv\", sep=\"\\t\", dtype=str, na_values=[\"\\\\N\"])\n",
    "\n",
    "cast_names_df = pd.read_csv(\"data/name.basics.tsv\", sep=\"\\t\", dtype=str, na_values=[\"\\\\N\"])\n",
    "\n",
    "director_names_df = pd.read_csv(\"data/name.basics.tsv\", sep=\"\\t\", dtype=str, na_values=[\"\\\\N\"])"
   ]
  },
  {
   "cell_type": "code",
   "execution_count": 92,
   "metadata": {},
   "outputs": [],
   "source": [
    "title_df = title_df.loc[title_df['titleType'] == 'movie']\n",
    "title_df = title_df.loc[title_df['isAdult'] == '0']\n",
    "title_df.drop(columns=['titleType','originalTitle', 'isAdult', 'endYear'], inplace=True)"
   ]
  },
  {
   "cell_type": "code",
   "execution_count": 93,
   "metadata": {},
   "outputs": [],
   "source": [
    "crew_df.drop(columns=['writers'], inplace=True)\n",
    "crew_df[\"directors\"] = crew_df[\"directors\"].str.split(\",\")\n",
    "crew_df = crew_df.explode(\"directors\")[[\"tconst\", \"directors\"]]"
   ]
  },
  {
   "cell_type": "code",
   "execution_count": 94,
   "metadata": {},
   "outputs": [],
   "source": [
    "principals_df = principals_df.loc[(principals_df['category'] == 'actor') | (principals_df['category'] == 'actress')]\n",
    "principals_df.drop(columns=['ordering', 'category', 'job', 'characters'], inplace=True)"
   ]
  },
  {
   "cell_type": "code",
   "execution_count": 95,
   "metadata": {},
   "outputs": [],
   "source": [
    "cast_names_df.drop(columns=['birthYear', 'deathYear', 'primaryProfession', 'knownForTitles'], inplace=True)\n",
    "director_names_df.drop(columns=['birthYear', 'deathYear', 'primaryProfession', 'knownForTitles'], inplace=True)"
   ]
  },
  {
   "cell_type": "code",
   "execution_count": 96,
   "metadata": {},
   "outputs": [],
   "source": [
    "data = pd.merge(title_df, crew_df, on='tconst', how='left')"
   ]
  },
  {
   "cell_type": "code",
   "execution_count": 97,
   "metadata": {},
   "outputs": [],
   "source": [
    "data = pd.merge(data, principals_df, on='tconst', how='left')"
   ]
  },
  {
   "cell_type": "code",
   "execution_count": 98,
   "metadata": {},
   "outputs": [],
   "source": [
    "data = pd.merge(data, ratings_df, on='tconst', how='left')"
   ]
  },
  {
   "cell_type": "code",
   "execution_count": 99,
   "metadata": {},
   "outputs": [],
   "source": [
    "data = pd.merge(data, cast_names_df, on='nconst', how='left')"
   ]
  },
  {
   "cell_type": "code",
   "execution_count": null,
   "metadata": {},
   "outputs": [],
   "source": [
    "data = data.rename(columns={\"primaryName\" : \"Cast\"})\n",
    "data.drop(columns=['nconst'], inplace=True)"
   ]
  },
  {
   "cell_type": "code",
   "execution_count": 101,
   "metadata": {},
   "outputs": [],
   "source": [
    "data = pd.merge(data, director_names_df, left_on='directors', right_on='nconst', how='left')"
   ]
  },
  {
   "cell_type": "code",
   "execution_count": null,
   "metadata": {},
   "outputs": [],
   "source": [
    "data = data.rename(columns={\"primaryName\" : \"Director\"})\n",
    "data.drop(columns=['nconst', 'directors'], inplace=True)"
   ]
  },
  {
   "cell_type": "code",
   "execution_count": 103,
   "metadata": {},
   "outputs": [],
   "source": [
    "data = data.fillna(\"Unknown\")"
   ]
  },
  {
   "cell_type": "code",
   "execution_count": 104,
   "metadata": {},
   "outputs": [],
   "source": [
    "data = data.groupby(['tconst']).agg({'primaryTitle' : 'first', 'startYear' : 'first', 'runtimeMinutes' : 'first', 'genres' : 'first', 'averageRating' : 'first', 'numVotes' : 'first', 'Cast': lambda x: ', '.join(x), 'Director': lambda x: ', '.join(set(x))}).reset_index()"
   ]
  },
  {
   "cell_type": "code",
   "execution_count": null,
   "metadata": {},
   "outputs": [],
   "source": [
    "data = data.rename(columns={\"tconst\" : \"ID\", \"primaryName\" : \"Director\", \"primaryTitle\" : \"Title\", \"startYear\" : \"Year\", \"runtimeMinutes\" : \"RunningTime\", \"genres\": \"Genres\", \"averageRating\" : \"Rating\", \"numVotes\" : \"Votes\"})"
   ]
  },
  {
   "cell_type": "code",
   "execution_count": 113,
   "metadata": {},
   "outputs": [],
   "source": [
    "data = data[['ID', 'Title', 'Year', 'Genres', 'Director', 'Cast', 'RunningTime', 'Rating', 'Votes']]"
   ]
  },
  {
   "cell_type": "code",
   "execution_count": 116,
   "metadata": {},
   "outputs": [],
   "source": [
    "data.to_csv(\"data/data.csv\", index=False, sep=\";\")"
   ]
  }
 ],
 "metadata": {
  "kernelspec": {
   "display_name": "base",
   "language": "python",
   "name": "python3"
  },
  "language_info": {
   "codemirror_mode": {
    "name": "ipython",
    "version": 3
   },
   "file_extension": ".py",
   "mimetype": "text/x-python",
   "name": "python",
   "nbconvert_exporter": "python",
   "pygments_lexer": "ipython3",
   "version": "3.12.7"
  }
 },
 "nbformat": 4,
 "nbformat_minor": 2
}

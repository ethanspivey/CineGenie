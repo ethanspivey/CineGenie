{
 "cells": [
  {
   "cell_type": "code",
   "execution_count": 1,
   "metadata": {},
   "outputs": [],
   "source": [
    "import pandas as pd\n",
    "\n",
    "akas_df = pd.read_csv('data/title.akas.tsv', sep='\\t', dtype=str, na_values=[\"\\\\N\"])\n",
    "\n",
    "title_df = pd.read_csv('data/title.basics.tsv', sep='\\t', dtype=str, na_values=[\"\\\\N\"])\n",
    "\n",
    "crew_df = pd.read_csv(\"data/title.crew.tsv\", sep=\"\\t\", dtype=str, na_values=[\"\\\\N\"])\n",
    "\n",
    "principals_df = pd.read_csv('data/title.principals.tsv', sep='\\t', dtype=str, na_values=[\"\\\\N\"])\n",
    "\n",
    "ratings_df = pd.read_csv(\"data/title.ratings.tsv\", sep=\"\\t\", dtype=str, na_values=[\"\\\\N\"])\n",
    "\n",
    "names_df = pd.read_csv(\"data/name.basics.tsv\", sep=\"\\t\", dtype=str, na_values=[\"\\\\N\"])"
   ]
  },
  {
   "cell_type": "code",
   "execution_count": 25,
   "metadata": {},
   "outputs": [],
   "source": [
    "akas_df = akas_df.loc[akas_df['region'] == 'US']\n",
    "\n",
    "akas_df = akas_df.loc[akas_df['types'] != 'tv']\n",
    "\n",
    "akas_df.drop(columns=['ordering', 'title', 'attributes', 'isOriginalTitle', 'language', 'types', 'region'], inplace=True)"
   ]
  },
  {
   "cell_type": "code",
   "execution_count": 26,
   "metadata": {},
   "outputs": [],
   "source": [
    "title_df.drop(columns=['originalTitle', 'isAdult', 'endYear'], inplace=True)\n",
    "\n",
    "title_df = title_df.loc[title_df['titleType'] == 'movie']\n",
    "\n",
    "title_df.drop(columns=['titleType'], inplace=True)"
   ]
  },
  {
   "cell_type": "code",
   "execution_count": 27,
   "metadata": {},
   "outputs": [],
   "source": [
    "crew_df.drop(columns=['writers'], inplace=True)"
   ]
  },
  {
   "cell_type": "code",
   "execution_count": 13,
   "metadata": {},
   "outputs": [],
   "source": [
    "principals_df.loc[principals_df['category'] == 'actor']\n",
    "\n",
    "principals_df.drop(columns=['ordering', 'category', 'job', 'characters'], inplace=True)"
   ]
  },
  {
   "cell_type": "code",
   "execution_count": 28,
   "metadata": {},
   "outputs": [],
   "source": [
    "ratings_df.drop(columns=['numVotes'], inplace=True)"
   ]
  },
  {
   "cell_type": "code",
   "execution_count": 29,
   "metadata": {},
   "outputs": [],
   "source": [
    "names_df.drop(columns=['birthYear', 'deathYear', 'primaryProfession', 'knownForTitles'], inplace=True)"
   ]
  },
  {
   "cell_type": "code",
   "execution_count": 30,
   "metadata": {},
   "outputs": [
    {
     "data": {
      "text/html": [
       "<div>\n",
       "<style scoped>\n",
       "    .dataframe tbody tr th:only-of-type {\n",
       "        vertical-align: middle;\n",
       "    }\n",
       "\n",
       "    .dataframe tbody tr th {\n",
       "        vertical-align: top;\n",
       "    }\n",
       "\n",
       "    .dataframe thead th {\n",
       "        text-align: right;\n",
       "    }\n",
       "</style>\n",
       "<table border=\"1\" class=\"dataframe\">\n",
       "  <thead>\n",
       "    <tr style=\"text-align: right;\">\n",
       "      <th></th>\n",
       "      <th>titleId</th>\n",
       "      <th>primaryTitle</th>\n",
       "      <th>startYear</th>\n",
       "      <th>runtimeMinutes</th>\n",
       "      <th>genres</th>\n",
       "      <th>directors</th>\n",
       "      <th>averageRating</th>\n",
       "    </tr>\n",
       "  </thead>\n",
       "  <tbody>\n",
       "    <tr>\n",
       "      <th>0</th>\n",
       "      <td>tt0000009</td>\n",
       "      <td>Miss Jerry</td>\n",
       "      <td>1894</td>\n",
       "      <td>45</td>\n",
       "      <td>Romance</td>\n",
       "      <td>Alexander Black</td>\n",
       "      <td>5.4</td>\n",
       "    </tr>\n",
       "    <tr>\n",
       "      <th>1</th>\n",
       "      <td>tt0000147</td>\n",
       "      <td>The Corbett-Fitzsimmons Fight</td>\n",
       "      <td>1897</td>\n",
       "      <td>100</td>\n",
       "      <td>Documentary,News,Sport</td>\n",
       "      <td>Enoch J. Rector</td>\n",
       "      <td>5.3</td>\n",
       "    </tr>\n",
       "    <tr>\n",
       "      <th>2</th>\n",
       "      <td>tt0000574</td>\n",
       "      <td>The Story of the Kelly Gang</td>\n",
       "      <td>1906</td>\n",
       "      <td>70</td>\n",
       "      <td>Action,Adventure,Biography</td>\n",
       "      <td>Charles Tait</td>\n",
       "      <td>6.0</td>\n",
       "    </tr>\n",
       "    <tr>\n",
       "      <th>3</th>\n",
       "      <td>tt0000591</td>\n",
       "      <td>The Prodigal Son</td>\n",
       "      <td>1907</td>\n",
       "      <td>90</td>\n",
       "      <td>Drama</td>\n",
       "      <td>Michel Carré</td>\n",
       "      <td>5.6</td>\n",
       "    </tr>\n",
       "    <tr>\n",
       "      <th>4</th>\n",
       "      <td>tt0000630</td>\n",
       "      <td>Hamlet</td>\n",
       "      <td>1908</td>\n",
       "      <td>NaN</td>\n",
       "      <td>Drama</td>\n",
       "      <td>Mario Caserini</td>\n",
       "      <td>3.1</td>\n",
       "    </tr>\n",
       "  </tbody>\n",
       "</table>\n",
       "</div>"
      ],
      "text/plain": [
       "     titleId                   primaryTitle startYear runtimeMinutes  \\\n",
       "0  tt0000009                     Miss Jerry      1894             45   \n",
       "1  tt0000147  The Corbett-Fitzsimmons Fight      1897            100   \n",
       "2  tt0000574    The Story of the Kelly Gang      1906             70   \n",
       "3  tt0000591               The Prodigal Son      1907             90   \n",
       "4  tt0000630                         Hamlet      1908            NaN   \n",
       "\n",
       "                       genres        directors averageRating  \n",
       "0                     Romance  Alexander Black           5.4  \n",
       "1      Documentary,News,Sport  Enoch J. Rector           5.3  \n",
       "2  Action,Adventure,Biography     Charles Tait           6.0  \n",
       "3                       Drama     Michel Carré           5.6  \n",
       "4                       Drama   Mario Caserini           3.1  "
      ]
     },
     "execution_count": 30,
     "metadata": {},
     "output_type": "execute_result"
    }
   ],
   "source": [
    "data = pd.merge(akas_df, title_df, left_on='titleId', right_on='tconst', how='inner')\n",
    "\n",
    "data = pd.merge(data, crew_df, on='tconst', how='inner')\n",
    "\n",
    "data = pd.merge(data, ratings_df, on='tconst', how='inner')\n",
    "\n",
    "data = pd.merge(data, names_df, left_on='directors', right_on='nconst', how='inner')\n",
    "\n",
    "data['directors'] = data['primaryName']\n",
    "\n",
    "data.drop(columns=['tconst', 'nconst', 'primaryName'], inplace=True)\n",
    "\n",
    "data.drop_duplicates(inplace=True)\n",
    "\n",
    "data.head()"
   ]
  },
  {
   "cell_type": "code",
   "execution_count": 31,
   "metadata": {},
   "outputs": [],
   "source": [
    "data.to_csv(\"data/data.csv\", index=False, sep=\";\")"
   ]
  }
 ],
 "metadata": {
  "kernelspec": {
   "display_name": "base",
   "language": "python",
   "name": "python3"
  },
  "language_info": {
   "codemirror_mode": {
    "name": "ipython",
    "version": 3
   },
   "file_extension": ".py",
   "mimetype": "text/x-python",
   "name": "python",
   "nbconvert_exporter": "python",
   "pygments_lexer": "ipython3",
   "version": "3.12.7"
  }
 },
 "nbformat": 4,
 "nbformat_minor": 2
}

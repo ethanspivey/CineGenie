{
 "cells": [
  {
   "cell_type": "code",
   "execution_count": 31,
   "metadata": {},
   "outputs": [],
   "source": [
    "import pandas as pd\n",
    "from sklearn.feature_extraction.text import TfidfVectorizer\n",
    "from sklearn.neighbors import NearestNeighbors\n",
    "import scipy.sparse\n",
    "import numpy as np\n",
    "import random"
   ]
  },
  {
   "cell_type": "code",
   "execution_count": 32,
   "metadata": {},
   "outputs": [],
   "source": [
    "# Load datasets\n",
    "movies = pd.read_csv(\"data/data.csv\", sep=';', dtype=str)  # Your main movie dataset\n",
    "watched = pd.read_csv(\"data/user_data.csv\", sep=';', dtype=str)  # User history dataset"
   ]
  },
  {
   "cell_type": "code",
   "execution_count": 33,
   "metadata": {},
   "outputs": [],
   "source": [
    "watched_titles = watched[\"Title\"].tolist()  # Get list of watched movie titles"
   ]
  },
  {
   "cell_type": "code",
   "execution_count": 34,
   "metadata": {},
   "outputs": [],
   "source": [
    "# Function to clean multi-entry columns\n",
    "def clean_text(text):\n",
    "    return text.replace(\",\", \"\").replace(\" \", \"\")\n",
    "\n",
    "movies[\"Genres\"] = movies[\"Genres\"].apply(clean_text)\n",
    "movies[\"Cast\"] = movies[\"Cast\"].apply(clean_text)\n",
    "movies[\"Director\"] = movies[\"Director\"].apply(clean_text)"
   ]
  },
  {
   "cell_type": "code",
   "execution_count": 35,
   "metadata": {},
   "outputs": [],
   "source": [
    "# Combine relevant columns into a single text feature\n",
    "movies[\"features\"] = (\n",
    "    movies[\"Genres\"] + \" \" + movies[\"Director\"] + \" \" + movies[\"Cast\"] + \" \" + movies[\"RunningTime\"] + \" \" + movies[\"Rating\"] + \" \" + movies[\"Votes\"]\n",
    ")"
   ]
  },
  {
   "cell_type": "code",
   "execution_count": 36,
   "metadata": {},
   "outputs": [],
   "source": [
    "# Apply TF-IDF Vectorization (sparse format for large datasets)\n",
    "vectorizer = TfidfVectorizer(stop_words=\"english\", max_features=50000)  # Limit features for efficiency\n",
    "tfidf_matrix = vectorizer.fit_transform(movies[\"features\"])"
   ]
  },
  {
   "cell_type": "code",
   "execution_count": null,
   "metadata": {},
   "outputs": [],
   "source": []
  },
  {
   "cell_type": "code",
   "execution_count": 37,
   "metadata": {},
   "outputs": [
    {
     "data": {
      "text/html": [
       "<style>#sk-container-id-4 {color: black;background-color: white;}#sk-container-id-4 pre{padding: 0;}#sk-container-id-4 div.sk-toggleable {background-color: white;}#sk-container-id-4 label.sk-toggleable__label {cursor: pointer;display: block;width: 100%;margin-bottom: 0;padding: 0.3em;box-sizing: border-box;text-align: center;}#sk-container-id-4 label.sk-toggleable__label-arrow:before {content: \"▸\";float: left;margin-right: 0.25em;color: #696969;}#sk-container-id-4 label.sk-toggleable__label-arrow:hover:before {color: black;}#sk-container-id-4 div.sk-estimator:hover label.sk-toggleable__label-arrow:before {color: black;}#sk-container-id-4 div.sk-toggleable__content {max-height: 0;max-width: 0;overflow: hidden;text-align: left;background-color: #f0f8ff;}#sk-container-id-4 div.sk-toggleable__content pre {margin: 0.2em;color: black;border-radius: 0.25em;background-color: #f0f8ff;}#sk-container-id-4 input.sk-toggleable__control:checked~div.sk-toggleable__content {max-height: 200px;max-width: 100%;overflow: auto;}#sk-container-id-4 input.sk-toggleable__control:checked~label.sk-toggleable__label-arrow:before {content: \"▾\";}#sk-container-id-4 div.sk-estimator input.sk-toggleable__control:checked~label.sk-toggleable__label {background-color: #d4ebff;}#sk-container-id-4 div.sk-label input.sk-toggleable__control:checked~label.sk-toggleable__label {background-color: #d4ebff;}#sk-container-id-4 input.sk-hidden--visually {border: 0;clip: rect(1px 1px 1px 1px);clip: rect(1px, 1px, 1px, 1px);height: 1px;margin: -1px;overflow: hidden;padding: 0;position: absolute;width: 1px;}#sk-container-id-4 div.sk-estimator {font-family: monospace;background-color: #f0f8ff;border: 1px dotted black;border-radius: 0.25em;box-sizing: border-box;margin-bottom: 0.5em;}#sk-container-id-4 div.sk-estimator:hover {background-color: #d4ebff;}#sk-container-id-4 div.sk-parallel-item::after {content: \"\";width: 100%;border-bottom: 1px solid gray;flex-grow: 1;}#sk-container-id-4 div.sk-label:hover label.sk-toggleable__label {background-color: #d4ebff;}#sk-container-id-4 div.sk-serial::before {content: \"\";position: absolute;border-left: 1px solid gray;box-sizing: border-box;top: 0;bottom: 0;left: 50%;z-index: 0;}#sk-container-id-4 div.sk-serial {display: flex;flex-direction: column;align-items: center;background-color: white;padding-right: 0.2em;padding-left: 0.2em;position: relative;}#sk-container-id-4 div.sk-item {position: relative;z-index: 1;}#sk-container-id-4 div.sk-parallel {display: flex;align-items: stretch;justify-content: center;background-color: white;position: relative;}#sk-container-id-4 div.sk-item::before, #sk-container-id-4 div.sk-parallel-item::before {content: \"\";position: absolute;border-left: 1px solid gray;box-sizing: border-box;top: 0;bottom: 0;left: 50%;z-index: -1;}#sk-container-id-4 div.sk-parallel-item {display: flex;flex-direction: column;z-index: 1;position: relative;background-color: white;}#sk-container-id-4 div.sk-parallel-item:first-child::after {align-self: flex-end;width: 50%;}#sk-container-id-4 div.sk-parallel-item:last-child::after {align-self: flex-start;width: 50%;}#sk-container-id-4 div.sk-parallel-item:only-child::after {width: 0;}#sk-container-id-4 div.sk-dashed-wrapped {border: 1px dashed gray;margin: 0 0.4em 0.5em 0.4em;box-sizing: border-box;padding-bottom: 0.4em;background-color: white;}#sk-container-id-4 div.sk-label label {font-family: monospace;font-weight: bold;display: inline-block;line-height: 1.2em;}#sk-container-id-4 div.sk-label-container {text-align: center;}#sk-container-id-4 div.sk-container {/* jupyter's `normalize.less` sets `[hidden] { display: none; }` but bootstrap.min.css set `[hidden] { display: none !important; }` so we also need the `!important` here to be able to override the default hidden behavior on the sphinx rendered scikit-learn.org. See: https://github.com/scikit-learn/scikit-learn/issues/21755 */display: inline-block !important;position: relative;}#sk-container-id-4 div.sk-text-repr-fallback {display: none;}</style><div id=\"sk-container-id-4\" class=\"sk-top-container\"><div class=\"sk-text-repr-fallback\"><pre>NearestNeighbors(algorithm=&#x27;brute&#x27;, metric=&#x27;cosine&#x27;)</pre><b>In a Jupyter environment, please rerun this cell to show the HTML representation or trust the notebook. <br />On GitHub, the HTML representation is unable to render, please try loading this page with nbviewer.org.</b></div><div class=\"sk-container\" hidden><div class=\"sk-item\"><div class=\"sk-estimator sk-toggleable\"><input class=\"sk-toggleable__control sk-hidden--visually\" id=\"sk-estimator-id-4\" type=\"checkbox\" checked><label for=\"sk-estimator-id-4\" class=\"sk-toggleable__label sk-toggleable__label-arrow\">NearestNeighbors</label><div class=\"sk-toggleable__content\"><pre>NearestNeighbors(algorithm=&#x27;brute&#x27;, metric=&#x27;cosine&#x27;)</pre></div></div></div></div></div>"
      ],
      "text/plain": [
       "NearestNeighbors(algorithm='brute', metric='cosine')"
      ]
     },
     "execution_count": 37,
     "metadata": {},
     "output_type": "execute_result"
    }
   ],
   "source": [
    "# Use Nearest Neighbors for efficient similarity search\n",
    "nn_model = NearestNeighbors(metric=\"cosine\", algorithm=\"brute\")\n",
    "nn_model.fit(tfidf_matrix)  # Fit the model on TF-IDF matrix"
   ]
  },
  {
   "cell_type": "code",
   "execution_count": 38,
   "metadata": {},
   "outputs": [
    {
     "name": "stdout",
     "output_type": "stream",
     "text": [
      "Recommended Movie: {'Title': 'Larry Mahoney', 'Year': '1996', 'Director': 'ChristopherNolan'}\n"
     ]
    }
   ],
   "source": [
    "# Function to recommend ONE movie with Title, Year, and Director\n",
    "def recommend_one_movie(watched_titles):\n",
    "    similar_movies = {}\n",
    "\n",
    "    for title in watched_titles:\n",
    "        if title not in movies[\"Title\"].values:\n",
    "            continue  # Skip if the movie is not in the database\n",
    "\n",
    "        idx = movies[movies[\"Title\"] == title].index[0]\n",
    "        _, indices = nn_model.kneighbors(tfidf_matrix[idx], n_neighbors=5)  # Find top 5 similar movies\n",
    "\n",
    "        for i in indices[0][1:]:  # Skip the first (it's the same movie)\n",
    "            movie_data = movies.iloc[i][[\"Title\", \"Year\", \"Director\"]]\n",
    "            movie_key = (movie_data[\"Title\"], movie_data[\"Year\"], movie_data[\"Director\"])\n",
    "            if movie_data[\"Title\"] not in watched_titles:  # Don't recommend watched movies\n",
    "                similar_movies[movie_key] = similar_movies.get(movie_key, 0) + 1  # Count occurrences\n",
    "\n",
    "    # Get the most frequently recommended movie\n",
    "    if similar_movies:\n",
    "        best_match = max(similar_movies, key=similar_movies.get)\n",
    "        return {\"Title\": best_match[0], \"Year\": best_match[1], \"Director\": best_match[2]}\n",
    "    else:\n",
    "        return \"No recommendations available.\"\n",
    "\n",
    "# Example Usage\n",
    "recommended_movie = recommend_one_movie(watched_titles)\n",
    "print(\"Recommended Movie:\", recommended_movie)"
   ]
  },
  {
   "cell_type": "code",
   "execution_count": 39,
   "metadata": {},
   "outputs": [
    {
     "name": "stdout",
     "output_type": "stream",
     "text": [
      "Recommended Movie: {'Title': \"'Neath the Arizona Skies\", 'Year': '1934', 'Director': 'HarryL.Fraser'}\n"
     ]
    }
   ],
   "source": [
    "def recommend_one_diverse_movie(watched_titles):\n",
    "    if not watched_titles:\n",
    "        return \"No watched movies provided.\"\n",
    "\n",
    "    similar_movies = {}\n",
    "\n",
    "    # Consider only the last 5 watched movies for recommendations\n",
    "    watched_titles = watched_titles[-5:]\n",
    "\n",
    "    for title in watched_titles:\n",
    "        if title not in movies[\"Title\"].values:\n",
    "            continue  # Skip if the movie is not in the database\n",
    "\n",
    "        idx = movies[movies[\"Title\"] == title].index[0]\n",
    "        distances, indices = nn_model.kneighbors(tfidf_matrix[idx], n_neighbors=10)  # Find top 10 similar movies\n",
    "\n",
    "        for i, score in zip(indices[0][1:], distances[0][1:]):  # Skip the first (it's the same movie)\n",
    "            movie_data = movies.iloc[i][[\"Title\", \"Year\", \"Director\"]]\n",
    "            movie_key = (movie_data[\"Title\"], movie_data[\"Year\"], movie_data[\"Director\"])\n",
    "            \n",
    "            if movie_data[\"Title\"] not in watched_titles:  # Don't recommend watched movies\n",
    "                similar_movies[movie_key] = similar_movies.get(movie_key, 0) + (1 - score)  # Higher score = more similar\n",
    "\n",
    "    # If no movies found, return a message\n",
    "    if not similar_movies:\n",
    "        return \"No recommendations available.\"\n",
    "\n",
    "    # Sort by similarity score (higher is better)\n",
    "    sorted_movies = sorted(similar_movies.items(), key=lambda x: x[1], reverse=True)\n",
    "\n",
    "    # Ensure there are at least 3 movies to choose from\n",
    "    top_movies = sorted_movies[:3] if len(sorted_movies) >= 3 else sorted_movies\n",
    "\n",
    "    # Extract only the movie keys (Title, Year, Director) for random selection\n",
    "    movie_choices = [movie[0] for movie in top_movies]\n",
    "\n",
    "    # Randomly select one movie\n",
    "    best_match = random.choice(movie_choices)\n",
    "\n",
    "    return {\"Title\": best_match[0], \"Year\": best_match[1], \"Director\": best_match[2]}\n",
    "\n",
    "# Example Usage\n",
    "recommended_movie = recommend_one_diverse_movie(watched_titles)\n",
    "print(\"Recommended Movie:\", recommended_movie)"
   ]
  }
 ],
 "metadata": {
  "kernelspec": {
   "display_name": "CineGenie",
   "language": "python",
   "name": "python3"
  },
  "language_info": {
   "codemirror_mode": {
    "name": "ipython",
    "version": 3
   },
   "file_extension": ".py",
   "mimetype": "text/x-python",
   "name": "python",
   "nbconvert_exporter": "python",
   "pygments_lexer": "ipython3",
   "version": "3.11.5"
  }
 },
 "nbformat": 4,
 "nbformat_minor": 2
}

{
 "cells": [
  {
   "cell_type": "code",
   "execution_count": 1,
   "metadata": {},
   "outputs": [
    {
     "name": "stderr",
     "output_type": "stream",
     "text": [
      "2025-03-05 11:13:21.954485: I tensorflow/core/platform/cpu_feature_guard.cc:182] This TensorFlow binary is optimized to use available CPU instructions in performance-critical operations.\n",
      "To enable the following instructions: SSE4.1 SSE4.2 AVX AVX2 FMA, in other operations, rebuild TensorFlow with the appropriate compiler flags.\n"
     ]
    }
   ],
   "source": [
    "import numpy as np\n",
    "import pandas as pd\n",
    "import matplotlib.pyplot as plt\n",
    "from sklearn.preprocessing import MultiLabelBinarizer, MinMaxScaler\n",
    "from sklearn.model_selection import train_test_split\n",
    "import tensorflow as tf\n",
    "from tensorflow.keras.models import Sequential, Model\n",
    "from tensorflow.keras.layers import LSTM, Dense, Dropout, Input, Embedding, Flatten, Concatenate\n",
    "from tensorflow.keras.preprocessing.text import Tokenizer\n",
    "from tensorflow.keras.preprocessing.sequence import pad_sequences"
   ]
  },
  {
   "cell_type": "code",
   "execution_count": 4,
   "metadata": {},
   "outputs": [],
   "source": [
    "data = pd.read_csv('data/data.csv', sep=\";\", dtype=str)"
   ]
  },
  {
   "cell_type": "code",
   "execution_count": 5,
   "metadata": {},
   "outputs": [
    {
     "data": {
      "text/html": [
       "<div>\n",
       "<style scoped>\n",
       "    .dataframe tbody tr th:only-of-type {\n",
       "        vertical-align: middle;\n",
       "    }\n",
       "\n",
       "    .dataframe tbody tr th {\n",
       "        vertical-align: top;\n",
       "    }\n",
       "\n",
       "    .dataframe thead th {\n",
       "        text-align: right;\n",
       "    }\n",
       "</style>\n",
       "<table border=\"1\" class=\"dataframe\">\n",
       "  <thead>\n",
       "    <tr style=\"text-align: right;\">\n",
       "      <th></th>\n",
       "      <th>ID</th>\n",
       "      <th>Title</th>\n",
       "      <th>Year</th>\n",
       "      <th>Genres</th>\n",
       "      <th>Director</th>\n",
       "      <th>Cast</th>\n",
       "      <th>RunningTime</th>\n",
       "      <th>Rating</th>\n",
       "      <th>Votes</th>\n",
       "    </tr>\n",
       "  </thead>\n",
       "  <tbody>\n",
       "    <tr>\n",
       "      <th>0</th>\n",
       "      <td>tt0000009</td>\n",
       "      <td>Miss Jerry</td>\n",
       "      <td>1894</td>\n",
       "      <td>Romance</td>\n",
       "      <td>Alexander Black</td>\n",
       "      <td>Blanche Bayliss, William Courtenay, Chauncey D...</td>\n",
       "      <td>45</td>\n",
       "      <td>5.3</td>\n",
       "      <td>222</td>\n",
       "    </tr>\n",
       "    <tr>\n",
       "      <th>1</th>\n",
       "      <td>tt0000147</td>\n",
       "      <td>The Corbett-Fitzsimmons Fight</td>\n",
       "      <td>1897</td>\n",
       "      <td>Documentary,News,Sport</td>\n",
       "      <td>Enoch J. Rector</td>\n",
       "      <td>Unknown</td>\n",
       "      <td>100</td>\n",
       "      <td>5.2</td>\n",
       "      <td>553</td>\n",
       "    </tr>\n",
       "    <tr>\n",
       "      <th>2</th>\n",
       "      <td>tt0000502</td>\n",
       "      <td>Bohemios</td>\n",
       "      <td>1905</td>\n",
       "      <td>Unknown</td>\n",
       "      <td>Ricardo de Baños</td>\n",
       "      <td>Antonio del Pozo, El Mochuelo</td>\n",
       "      <td>100</td>\n",
       "      <td>3.8</td>\n",
       "      <td>21</td>\n",
       "    </tr>\n",
       "    <tr>\n",
       "      <th>3</th>\n",
       "      <td>tt0000574</td>\n",
       "      <td>The Story of the Kelly Gang</td>\n",
       "      <td>1906</td>\n",
       "      <td>Action,Adventure,Biography</td>\n",
       "      <td>Charles Tait</td>\n",
       "      <td>Elizabeth Tait, John Tait, Nicholas Brierley, ...</td>\n",
       "      <td>70</td>\n",
       "      <td>6.0</td>\n",
       "      <td>976</td>\n",
       "    </tr>\n",
       "    <tr>\n",
       "      <th>4</th>\n",
       "      <td>tt0000591</td>\n",
       "      <td>The Prodigal Son</td>\n",
       "      <td>1907</td>\n",
       "      <td>Drama</td>\n",
       "      <td>Michel Carré</td>\n",
       "      <td>Georges Wague, Henri Gouget, Christiane Mandel...</td>\n",
       "      <td>90</td>\n",
       "      <td>5.6</td>\n",
       "      <td>31</td>\n",
       "    </tr>\n",
       "  </tbody>\n",
       "</table>\n",
       "</div>"
      ],
      "text/plain": [
       "          ID                          Title  Year                      Genres  \\\n",
       "0  tt0000009                     Miss Jerry  1894                     Romance   \n",
       "1  tt0000147  The Corbett-Fitzsimmons Fight  1897      Documentary,News,Sport   \n",
       "2  tt0000502                       Bohemios  1905                     Unknown   \n",
       "3  tt0000574    The Story of the Kelly Gang  1906  Action,Adventure,Biography   \n",
       "4  tt0000591               The Prodigal Son  1907                       Drama   \n",
       "\n",
       "           Director                                               Cast  \\\n",
       "0   Alexander Black  Blanche Bayliss, William Courtenay, Chauncey D...   \n",
       "1   Enoch J. Rector                                            Unknown   \n",
       "2  Ricardo de Baños                      Antonio del Pozo, El Mochuelo   \n",
       "3      Charles Tait  Elizabeth Tait, John Tait, Nicholas Brierley, ...   \n",
       "4      Michel Carré  Georges Wague, Henri Gouget, Christiane Mandel...   \n",
       "\n",
       "  RunningTime Rating Votes  \n",
       "0          45    5.3   222  \n",
       "1         100    5.2   553  \n",
       "2         100    3.8    21  \n",
       "3          70    6.0   976  \n",
       "4          90    5.6    31  "
      ]
     },
     "execution_count": 5,
     "metadata": {},
     "output_type": "execute_result"
    }
   ],
   "source": [
    "data.head()"
   ]
  },
  {
   "cell_type": "code",
   "execution_count": 6,
   "metadata": {},
   "outputs": [],
   "source": [
    "data = data[[\"Genres\", \"Director\", \"Cast\", \"RunningTime\", \"Rating\", \"Votes\"]]\n",
    "\n",
    "# Convert multi-entry columns from string to list (assuming '|' is the separator)\n",
    "for col in [\"Genres\", \"Director\", \"Cast\"]:\n",
    "    data[col] = data[col].apply(lambda x: x.split('|') if isinstance(x, str) else [])"
   ]
  },
  {
   "cell_type": "code",
   "execution_count": 7,
   "metadata": {},
   "outputs": [],
   "source": [
    "# 1. **Multi-Label Encoding (Genres, Director, Cast)**\n",
    "mlb_genres = MultiLabelBinarizer()\n",
    "mlb_director = MultiLabelBinarizer()\n",
    "mlb_cast = MultiLabelBinarizer()\n",
    "\n",
    "genres_encoded = mlb_genres.fit_transform(data[\"Genres\"])\n",
    "directors_encoded = mlb_director.fit_transform(data[\"Director\"])\n",
    "cast_encoded = mlb_cast.fit_transform(data[\"Cast\"])\n",
    "\n",
    "# Convert back to DataFrame\n",
    "genres_df = pd.DataFrame(genres_encoded, columns=mlb_genres.classes_)\n",
    "directors_df = pd.DataFrame(directors_encoded, columns=mlb_director.classes_)\n",
    "cast_df = pd.DataFrame(cast_encoded, columns=mlb_cast.classes_)"
   ]
  },
  {
   "cell_type": "code",
   "execution_count": null,
   "metadata": {},
   "outputs": [],
   "source": [
    "# 2. **Normalize Numerical Columns**\n",
    "scaler = MinMaxScaler()\n",
    "data[[\"RunningTime\", \"Rating\", \"Votes\"]] = scaler.fit_transform(data[[\"RunningTime\", \"Rating\", \"Votes\"]])"
   ]
  },
  {
   "cell_type": "code",
   "execution_count": null,
   "metadata": {},
   "outputs": [],
   "source": [
    "# 3. **Tokenize and Encode Cast & Director (Optional Alternative)**\n",
    "# You can use a tokenizer instead of MultiLabelBinarizer if using embeddings\n",
    "tokenizer = Tokenizer()\n",
    "tokenizer.fit_on_texts(data[\"Director\"] + data[\"Cast\"])  # Fit on both columns\n",
    "\n",
    "data[\"Director_tokenized\"] = tokenizer.texts_to_sequences(data[\"Director\"])\n",
    "data[\"Cast_tokenized\"] = tokenizer.texts_to_sequences(data[\"Cast\"])\n",
    "\n",
    "# Pad sequences to make them of equal length\n",
    "max_length = max(data[\"Cast_tokenized\"].apply(len))  # Find longest sequence\n",
    "data[\"Cast_tokenized\"] = pad_sequences(data[\"Cast_tokenized\"], maxlen=max_length, padding='post').tolist()"
   ]
  },
  {
   "cell_type": "code",
   "execution_count": null,
   "metadata": {},
   "outputs": [],
   "source": [
    "# 4. **Final Data Concatenation**\n",
    "df_final = pd.concat([data[[\"RunningTime\", \"Rating\", \"Votes\"]], genres_df, directors_df, cast_df], axis=1)\n",
    "\n",
    "# Convert DataFrame to NumPy array for LSTM training\n",
    "X = np.array(df_final)\n",
    "\n",
    "# Display processed data\n",
    "print(X.shape)  # (num_samples, num_features)"
   ]
  },
  {
   "cell_type": "code",
   "execution_count": null,
   "metadata": {},
   "outputs": [],
   "source": [
    "# Assume `X_cast` and `X_director` are padded sequences, and `X_other` is a NumPy array of numerical features.\n",
    "# Assume `num_cast` and `num_directors` are the vocab sizes from tokenizer.word_index + 1\n",
    "\n",
    "# Define input layers\n",
    "cast_input = Input(shape=(X_cast.shape[1],), name=\"Cast_Input\")\n",
    "director_input = Input(shape=(X_director.shape[1],), name=\"Director_Input\")\n",
    "other_features_input = Input(shape=(X_other.shape[1],), name=\"Other_Features\")\n",
    "\n",
    "# Embedding layers for categorical text-based features\n",
    "embedding_dim = 32  # You can adjust this\n",
    "\n",
    "cast_embedding = Embedding(input_dim=num_cast, output_dim=embedding_dim, mask_zero=True)(cast_input)\n",
    "director_embedding = Embedding(input_dim=num_directors, output_dim=embedding_dim, mask_zero=True)(director_input)\n",
    "\n",
    "# LSTM layers to process sequences\n",
    "cast_lstm = LSTM(32)(cast_embedding)\n",
    "director_lstm = LSTM(32)(director_embedding)\n",
    "\n",
    "# Combine numerical features\n",
    "combined = Concatenate()([cast_lstm, director_lstm, other_features_input])\n",
    "\n",
    "# Dense layers for learning feature interactions\n",
    "dense1 = Dense(64, activation='relu')(combined)\n",
    "dense2 = Dense(32, activation='relu')(dense1)\n",
    "output = Dense(1, activation='sigmoid')  # Adjust based on task (e.g., regression/classification)\n",
    "\n",
    "# Build and compile model\n",
    "model = Model(inputs=[cast_input, director_input, other_features_input], outputs=output)\n",
    "model.compile(optimizer='adam', loss='binary_crossentropy', metrics=['accuracy'])\n",
    "\n",
    "# Print model summary\n",
    "model.summary()"
   ]
  }
 ],
 "metadata": {
  "kernelspec": {
   "display_name": "base",
   "language": "python",
   "name": "python3"
  },
  "language_info": {
   "codemirror_mode": {
    "name": "ipython",
    "version": 3
   },
   "file_extension": ".py",
   "mimetype": "text/x-python",
   "name": "python",
   "nbconvert_exporter": "python",
   "pygments_lexer": "ipython3",
   "version": "3.11.5"
  }
 },
 "nbformat": 4,
 "nbformat_minor": 2
}
